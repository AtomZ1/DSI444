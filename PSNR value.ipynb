{
 "cells": [
  {
   "cell_type": "code",
   "execution_count": 1,
   "id": "4a652810",
   "metadata": {},
   "outputs": [
    {
     "name": "stdout",
     "output_type": "stream",
     "text": [
      "Requirement already satisfied: opencv-python in c:\\users\\konto\\miniconda3\\lib\\site-packages (4.8.1.78)\n",
      "Requirement already satisfied: numpy>=1.19.3 in c:\\users\\konto\\miniconda3\\lib\\site-packages (from opencv-python) (1.24.2)\n",
      "Note: you may need to restart the kernel to use updated packages.\n"
     ]
    }
   ],
   "source": [
    "pip install opencv-python"
   ]
  },
  {
   "cell_type": "code",
   "execution_count": 2,
   "id": "50ef02ae",
   "metadata": {},
   "outputs": [],
   "source": [
    "import cv2"
   ]
  },
  {
   "cell_type": "code",
   "execution_count": 3,
   "id": "1c3ae8da",
   "metadata": {},
   "outputs": [
    {
     "name": "stdout",
     "output_type": "stream",
     "text": [
      "4.8.1\n"
     ]
    }
   ],
   "source": [
    "print(cv2.__version__)"
   ]
  },
  {
   "cell_type": "code",
   "execution_count": 4,
   "id": "09c44cc5",
   "metadata": {},
   "outputs": [],
   "source": [
    "# โหลด  image ที่ต้องการใช้วัคุณภาพ PSNR value  \n",
    "enhanced = cv2.imread('test4.png')\n",
    "ref = cv2.imread('IMG_0142.png')"
   ]
  },
  {
   "cell_type": "code",
   "execution_count": 5,
   "id": "bc239e82",
   "metadata": {},
   "outputs": [
    {
     "name": "stdout",
     "output_type": "stream",
     "text": [
      "(364, 485, 3)\n",
      "(613, 828, 3)\n"
     ]
    }
   ],
   "source": [
    "print(enhanced.shape)\n",
    "print(ref.shape)"
   ]
  },
  {
   "cell_type": "code",
   "execution_count": 6,
   "id": "2e2bc369",
   "metadata": {},
   "outputs": [],
   "source": [
    "resized_ref = cv2.resize(ref, (485, 364))"
   ]
  },
  {
   "cell_type": "code",
   "execution_count": 7,
   "id": "aa91d053",
   "metadata": {},
   "outputs": [
    {
     "name": "stdout",
     "output_type": "stream",
     "text": [
      "(364, 485, 3)\n"
     ]
    }
   ],
   "source": [
    "print(resized_ref.shape)"
   ]
  },
  {
   "cell_type": "code",
   "execution_count": 8,
   "id": "cbcce239",
   "metadata": {
    "scrolled": true
   },
   "outputs": [
    {
     "name": "stdout",
     "output_type": "stream",
     "text": [
      "PSNR value is: 12.457301074198963\n"
     ]
    }
   ],
   "source": [
    "psnr_value = cv2.PSNR(resized_ref, enhanced)\n",
    "print(f\"PSNR value is: {psnr_value}\")"
   ]
  }
 ],
 "metadata": {
  "kernelspec": {
   "display_name": "Python 3 (ipykernel)",
   "language": "python",
   "name": "python3"
  },
  "language_info": {
   "codemirror_mode": {
    "name": "ipython",
    "version": 3
   },
   "file_extension": ".py",
   "mimetype": "text/x-python",
   "name": "python",
   "nbconvert_exporter": "python",
   "pygments_lexer": "ipython3",
   "version": "3.10.8"
  }
 },
 "nbformat": 4,
 "nbformat_minor": 5
}
