{
 "cells": [
  {
   "cell_type": "code",
   "execution_count": 1,
   "id": "0bb7b426",
   "metadata": {},
   "outputs": [
    {
     "name": "stdout",
     "output_type": "stream",
     "text": [
      "Requirement already satisfied: scikit-image in c:\\users\\konto\\miniconda3\\lib\\site-packages (0.21.0)\n",
      "Requirement already satisfied: scipy>=1.8 in c:\\users\\konto\\miniconda3\\lib\\site-packages (from scikit-image) (1.11.3)\n",
      "Requirement already satisfied: pillow>=9.0.1 in c:\\users\\konto\\miniconda3\\lib\\site-packages (from scikit-image) (9.5.0)\n",
      "Requirement already satisfied: lazy_loader>=0.2 in c:\\users\\konto\\miniconda3\\lib\\site-packages (from scikit-image) (0.3)\n",
      "Requirement already satisfied: networkx>=2.8 in c:\\users\\konto\\miniconda3\\lib\\site-packages (from scikit-image) (3.1)\n",
      "Requirement already satisfied: imageio>=2.27 in c:\\users\\konto\\miniconda3\\lib\\site-packages (from scikit-image) (2.31.4)\n",
      "Requirement already satisfied: tifffile>=2022.8.12 in c:\\users\\konto\\miniconda3\\lib\\site-packages (from scikit-image) (2023.9.26)\n",
      "Requirement already satisfied: PyWavelets>=1.1.1 in c:\\users\\konto\\miniconda3\\lib\\site-packages (from scikit-image) (1.4.1)\n",
      "Requirement already satisfied: numpy>=1.21.1 in c:\\users\\konto\\miniconda3\\lib\\site-packages (from scikit-image) (1.24.2)\n",
      "Requirement already satisfied: packaging>=21 in c:\\users\\konto\\miniconda3\\lib\\site-packages (from scikit-image) (23.0)\n",
      "Note: you may need to restart the kernel to use updated packages.\n"
     ]
    }
   ],
   "source": [
    "pip install scikit-image"
   ]
  },
  {
   "cell_type": "code",
   "execution_count": 2,
   "id": "cb1b892f",
   "metadata": {},
   "outputs": [],
   "source": [
    "from skimage import data, img_as_float\n",
    "from skimage.metrics import structural_similarity as compare_ssim\n",
    "import cv2"
   ]
  },
  {
   "cell_type": "code",
   "execution_count": 3,
   "id": "1933c8b2",
   "metadata": {},
   "outputs": [],
   "source": [
    "ref = cv2.cvtColor(cv2.imread('IMG_0142.png'), cv2.COLOR_BGR2RGB)\n",
    "enh = cv2.cvtColor(cv2.imread('test4.png'), cv2.COLOR_BGR2RGB)"
   ]
  },
  {
   "cell_type": "code",
   "execution_count": 5,
   "id": "77a258ce",
   "metadata": {},
   "outputs": [
    {
     "name": "stdout",
     "output_type": "stream",
     "text": [
      "(364, 485, 3)\n",
      "(613, 828, 3)\n"
     ]
    }
   ],
   "source": [
    "print(enh.shape)\n",
    "print(ref.shape)"
   ]
  },
  {
   "cell_type": "code",
   "execution_count": 8,
   "id": "e614c1d1",
   "metadata": {},
   "outputs": [
    {
     "name": "stdout",
     "output_type": "stream",
     "text": [
      "(364, 485, 3)\n"
     ]
    }
   ],
   "source": [
    "resized_re = cv2.resize(ref, (485, 364))\n",
    "print(resized_re.shape)"
   ]
  },
  {
   "cell_type": "code",
   "execution_count": 9,
   "id": "1e850e5a",
   "metadata": {},
   "outputs": [
    {
     "name": "stdout",
     "output_type": "stream",
     "text": [
      "Average SSIM value is: 0.43559368115846636\n"
     ]
    }
   ],
   "source": [
    "# คำนวณ SSIM สำหรับแต่ละช่องสี\n",
    "ssim_r, _ = compare_ssim(resized_re[:,:,0], enh[:,:,0], full=True, multichannel=False)\n",
    "ssim_g, _ = compare_ssim(resized_re[:,:,1], enh[:,:,1], full=True, multichannel=False)\n",
    "ssim_b, _ = compare_ssim(resized_re[:,:,2], enh[:,:,2], full=True, multichannel=False)\n",
    "\n",
    "# เฉลี่ยค่า SSIM จากทั้ง 3 ช่องสี\n",
    "average_ssim = (ssim_r + ssim_g + ssim_b) / 3.0\n",
    "\n",
    "print(f\"Average SSIM value is: {average_ssim}\")"
   ]
  }
 ],
 "metadata": {
  "kernelspec": {
   "display_name": "Python 3 (ipykernel)",
   "language": "python",
   "name": "python3"
  },
  "language_info": {
   "codemirror_mode": {
    "name": "ipython",
    "version": 3
   },
   "file_extension": ".py",
   "mimetype": "text/x-python",
   "name": "python",
   "nbconvert_exporter": "python",
   "pygments_lexer": "ipython3",
   "version": "3.10.8"
  }
 },
 "nbformat": 4,
 "nbformat_minor": 5
}
